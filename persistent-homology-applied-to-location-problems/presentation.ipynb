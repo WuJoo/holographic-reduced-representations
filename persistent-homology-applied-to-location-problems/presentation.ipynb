{
 "cells": [
  {
   "cell_type": "markdown",
   "metadata": {},
   "source": [
    "# Persistent Homology applied to location problems\n",
    "na podstawie publikacji Persistent Homology applied to location problems, autorzy: Driss Bennis, Fouad Gharib & \n",
    "Ghita Lebbar"
   ]
  },
  {
   "cell_type": "markdown",
   "metadata": {},
   "source": [
    "## Tło matematyczne (uproszczone do minimum)"
   ]
  },
  {
   "cell_type": "markdown",
   "metadata": {},
   "source": [
    "### Kompleksy symplicjalne"
   ]
  },
  {
   "cell_type": "markdown",
   "metadata": {},
   "source": [
    "Abstrakcyjnym kompleksem symplicjalnym nazywamy parę zbiór $K$ i zbiór $S$ podzbiorów $K$ spełniające warunki:\n",
    "- $S$ zawiera wszystkie singletony $\\{ v \\}$ dla $v \\in K$\n",
    "- jeśli $\\tau \\subset \\sigma$ i $\\sigma \\in S$ to $\\tau \\in S$\n",
    "\n",
    "Element $\\sigma$ $S$ o dodatniej liczbie elementów nazywamy (n-1)-sympleksem(krótko sympleksem). \n",
    "\n",
    "0-singletony nazywamy często punktami, 1-singletony krawędziami itp."
   ]
  },
  {
   "cell_type": "markdown",
   "metadata": {},
   "source": [
    "### Homologie symplicjalne\n",
    "Dla kompleksu symplicjalnego $K$ definiujemy p-te grupy homologii i odpowiadające im p-te liczby Bettiego $\\beta_p$ będące wymiarem p-tej grupy homologii.\n",
    "\n",
    "Grupy Homologii za pomocą liczb Bettiego opisują przestrzeń będącą realizacją geometryczną kompleksu symplicjalnego. W dużym uproszczeniu: $\\beta_0$ opisują liczbę spójnych składowych, a $\\beta_1$ liczbę dziur kompleksu symplicjalnego."
   ]
  },
  {
   "cell_type": "markdown",
   "metadata": {},
   "source": [
    "![title](images/faces.png)"
   ]
  },
  {
   "cell_type": "markdown",
   "metadata": {},
   "source": [
    "### Homologie persystentne\n",
    "\n",
    "Dla kompleksu symplicjalnego $K$ filtracją $F$ nazywamy skończony ciąg kompleksów postaci:\n",
    "$$F: \\emptyset = K_0 \\subset K_1 \\subset .. \\subset K_m = K $$"
   ]
  },
  {
   "cell_type": "markdown",
   "metadata": {},
   "source": [
    "![title](images/filtration_happy.png)\n",
    "![title](images/barcode_happy.png)\n",
    "![title](images/filtration_sad.png)\n",
    "![title](images/barcode_sad.png)"
   ]
  },
  {
   "cell_type": "markdown",
   "metadata": {},
   "source": [
    "## Problem decyzji o lokalizacji"
   ]
  },
  {
   "cell_type": "markdown",
   "metadata": {},
   "source": [
    "Problemy decyzyjne związane z lokalizacją są analizowane od 1909 roku od pracy Webera, \n",
    "który sformułował teorię lokowania przemysłu o minimalnym kosztcie transportu surowców i finalnych produktów."
   ]
  },
  {
   "cell_type": "markdown",
   "metadata": {},
   "source": [
    "Tworzenie nowych placówek jest kosztowne i czasohłonne.\n",
    "\n",
    "Przykładowe problemy, które muszą rozwiązać eksperci projektujący rozwiązania:\n",
    "- optymalny wybór węzłów do lokalizacji obiektów\n",
    "- minimalizacja kosztów podróży\n",
    "- redukowanie czasu podróży\n",
    "- optymalizacja sieci: infrastruktura(drogi, mosty, tunele), telekomunikacja, kanalizacja, dostęp do prądu itp\n",
    "\n",
    "Jak widać jest to problem wielopłaszczyznowy, którego rozwiązanie zawsze będzie obarczone jakimś kosztem.\n",
    "Stąd potrzeba budowania matematycznych narzędzi i metod, które mogłoby wspomóc ten wybór.\n"
   ]
  },
  {
   "cell_type": "markdown",
   "metadata": {},
   "source": [
    "## Homologie persystentne jako narzędzie do wyboru lokalizacji"
   ]
  },
  {
   "cell_type": "markdown",
   "metadata": {},
   "source": [
    "### Punkt wyjścia:\n",
    "Mamy:\n",
    "- sieć składającą się z **n** węzłów(rejonów miasta): $(A_1, A_2, A_3,..., A_n)$\n",
    "- informację o odległościach między węzłami: $A_i$ i $A_j$ - $d_{i,j}$\n",
    "- oraz liczbę mieszkańców **$n_i$** dla każdego z węzłów $A_i$\n",
    "\n",
    "### Problem do rozwiązania:\n",
    "Sieć sklepów planuje otworzyć nową placówkę w obrębie tych rejonów i potrzebują znaleźć optymalną lokalizację tak by służyła całemu obszarowi."
   ]
  },
  {
   "cell_type": "markdown",
   "metadata": {},
   "source": [
    "### Proponowana metoda:"
   ]
  },
  {
   "cell_type": "markdown",
   "metadata": {},
   "source": [
    "- Na początku musimy ustalić kilku kandydatów na miejsca gdzie placówka może być zlokalizowana.\n",
    "Wybór jest dokonywany poprzez ekspertów od planowania na podstawie kryteriów związanych z transportem.\n",
    "\n",
    "\n",
    "- następnie dla ustalonego kandydata $A_i$ ustala się współczynnik odpowiadający \"ważności\" innych węzłów w stosunku do niego\n",
    "\n",
    "np współczynnik dla $A_j$ względem kandytata $A_i$ wyrażony jest wzorem:\n",
    "$$ X^i_j = \\frac{1}{n_i} \\frac{d_{i,j}}{n_j}$$"
   ]
  },
  {
   "cell_type": "markdown",
   "metadata": {},
   "source": [
    "  "
   ]
  },
  {
   "cell_type": "markdown",
   "metadata": {},
   "source": [
    " "
   ]
  },
  {
   "cell_type": "markdown",
   "metadata": {},
   "source": [
    "Dla prostoty założmy na moment, że mamy dwóch kandydatów $A_m$ i $A_n$ oraz węzły $A_e$ i $A_f$."
   ]
  },
  {
   "cell_type": "markdown",
   "metadata": {},
   "source": [
    "Mamy do omówienia 2 sytuacje:\n",
    "\n",
    "1) założmy, że w naszej sieci mamy tylko 3 węzły: $A_m$, $A_n$, $A_e$\n",
    "\n",
    "Wtedy $A_m$ jest optymalnym rozwiązaniem jeśli $X_e^m \\leq X_e^n$\n",
    "\n",
    "Założmy, że np $d_{e,m} = d_{e,n}$ wtedy nierówność sprowadza się do $\\frac{1}{n_m} \\leq \\frac{1}{n_n}$\n",
    "\n",
    "co należy rozumieć jako im większe $n_m$ tym bardziej atrakcyjne jest $A_m$\n",
    "\n",
    "Z drugiej strony, jeśli $n_m = n_n$ nierówność sprowadza się do $d_{e,m} \\leq d_{e,n}$ aby $A_m$ było optymalnym rozwiązaniem.\n",
    "\n",
    ".\n",
    "\n",
    "2) założmy, że w naszej sieci mamy 4 węzły: $A_m$, $A_n$, $A_e$, $A_f$\n",
    "\n",
    "Wtedy $A_m$ będzie optymalnym rozwiązaniem jeśli $\\frac{X^m_e+X^m_f}{2} \\leq \\frac{X^n_e+X^n_f}{2}$\n",
    "\n",
    "Przykładowo jeśli $n_m=n_n$ oraz $n_e=n_f$ to powyższą nierówność można zredukować do średnich odlegołości.\n",
    "\n",
    "Wtedy optymalne rozwiązanie odpowiada najmniejszej średniej z odległości.\n",
    "\n",
    "Oczywiście $\\frac{1}{n_e}$ i $\\frac{1}{n_f}$ są rozważane, ponieważ liczba klientów też powinna mieć jakiś wpływ na wybór rozwiązania."
   ]
  },
  {
   "cell_type": "markdown",
   "metadata": {},
   "source": [
    " "
   ]
  },
  {
   "cell_type": "markdown",
   "metadata": {},
   "source": [
    " "
   ]
  },
  {
   "cell_type": "markdown",
   "metadata": {},
   "source": [
    "W oparciu o powyższe rozważania budujemy kompleks $K_{m,r}$ skojarzony z kandydatem $A_m$ i dodatnią liczbą rzeczywistą $r$ w następujący sposób(rozważamy tylko 0 i 1-sympleksy):\n",
    "- 0-sympleksami są węzły $A_j$ (różne od $A_m$, ale to potem w pracy nie jest konsekwentne)\n",
    "- 2 węzły $A_i$ i $A_j$ łączymy krawędzią(tworzymy 1-sympleks) jeśli:\n",
    "$$\\frac{X_i^m+X_j^m}{2} \\leq r$$"
   ]
  },
  {
   "cell_type": "markdown",
   "metadata": {},
   "source": [
    "Jeśli $r < r'$ to $K_{m,r} \\subset K_{m,r'}$ \n",
    "\n",
    "to znaczy, że możemy skonstruować filtrację $K_{m,r1} \\subset ... \\subset K_{m,rs}$ gdzie $r_1$, ..., $r_s$ jest rosnącym ciągiem liczb dodatnich."
   ]
  },
  {
   "cell_type": "markdown",
   "metadata": {},
   "source": [
    "Dla tak stworzonego ciągu, każdy następny kompleks ma coraz więcej krawędzi czyli coraz mniej spójnych składowych.\n",
    "\n",
    "Optymalnym rozwiązaniem będzie to, dla którego najszybciej otrzymamy jedną spójną składową."
   ]
  },
  {
   "cell_type": "markdown",
   "metadata": {},
   "source": [
    "#### **Przykład**:\n",
    "Założmy, że mamy sieć składającą się z 8 regionów: $(A_1, A_2,..,A_8)$"
   ]
  },
  {
   "cell_type": "markdown",
   "metadata": {},
   "source": [
    "![title](images/districts.png)"
   ]
  },
  {
   "cell_type": "markdown",
   "metadata": {},
   "source": [
    "Ustalamy kandydatów $A_2$, $A_5$ i $A_8$. Dla każdego z kandydatów konstruujemy \"barcode'y.\n",
    "\n",
    "Poniżej mamy otrzymane filtracje dla $A_2$ dla następującego ciągu **r**: $r_1=\\frac{1}{5}$,\n",
    "$r_2=\\frac{1}{4}$, $r_3=\\frac{2}{7}$, $r_4=1$"
   ]
  },
  {
   "cell_type": "markdown",
   "metadata": {},
   "source": [
    "![title](images/filtration1.png)\n",
    "![title](images/filtration2.png)\n",
    "![title](images/filtration3.png)\n",
    "![title](images/filtration4.png)"
   ]
  },
  {
   "cell_type": "markdown",
   "metadata": {},
   "source": [
    "Otrzymane barcode'y:"
   ]
  },
  {
   "cell_type": "markdown",
   "metadata": {},
   "source": [
    "![title](images/barcode1.png)\n",
    "![title](images/barcode2.png)\n",
    "![title](images/barcode3.png)"
   ]
  },
  {
   "cell_type": "markdown",
   "metadata": {},
   "source": [
    "Skąd widać, że $A_5$ jest szukanym rozwiązaniem."
   ]
  },
  {
   "cell_type": "code",
   "execution_count": null,
   "metadata": {},
   "outputs": [],
   "source": []
  }
 ],
 "metadata": {
  "kernelspec": {
   "display_name": "Python 3",
   "language": "python",
   "name": "python3"
  },
  "language_info": {
   "codemirror_mode": {
    "name": "ipython",
    "version": 3
   },
   "file_extension": ".py",
   "mimetype": "text/x-python",
   "name": "python",
   "nbconvert_exporter": "python",
   "pygments_lexer": "ipython3",
   "version": "3.6.2"
  }
 },
 "nbformat": 4,
 "nbformat_minor": 2
}

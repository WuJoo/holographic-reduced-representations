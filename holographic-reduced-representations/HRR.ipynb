{
 "cells": [
  {
   "cell_type": "markdown",
   "metadata": {},
   "source": [
    "# Holographic Reduced Representations\n",
    "na podstawie publikacji Holographic Reduced Representations, autor: Tony Plate"
   ]
  },
  {
   "cell_type": "markdown",
   "metadata": {},
   "source": [
    "## Associative memories"
   ]
  },
  {
   "cell_type": "markdown",
   "metadata": {},
   "source": [
    "$$ \\mathbb{I} - \\text{przestrzeń wektorowa} $$\n",
    "$$ \\mathbb{T} - \\text{przestrzeń macierzy/przestrzeń wektorowa(zazwyczaj macierze)} $$"
   ]
  },
  {
   "cell_type": "markdown",
   "metadata": {},
   "source": [
    "### encoding\n",
    "$$ \\boxtimes : \\mathbb{I} \\times \\mathbb{I} \\rightarrow \\mathbb{T} $$"
   ]
  },
  {
   "cell_type": "markdown",
   "metadata": {},
   "source": [
    "### decoding\n",
    "$$ \\triangleright : \\mathbb{I} \\times \\mathbb{T} \\rightarrow \\mathbb{I} $$"
   ]
  },
  {
   "cell_type": "markdown",
   "metadata": {},
   "source": [
    "### trace composition\n",
    "$$ \\boxplus : \\mathbb{T} \\times \\mathbb{T} \\rightarrow \\mathbb{T} $$"
   ]
  },
  {
   "cell_type": "markdown",
   "metadata": {},
   "source": [
    "### przykłady"
   ]
  },
  {
   "cell_type": "markdown",
   "metadata": {},
   "source": [
    "$$ a, b, c, d, e, f \\in \\mathbb{I} $$\n",
    "$$ T_i \\in \\mathbb{T} $$ "
   ]
  },
  {
   "cell_type": "markdown",
   "metadata": {},
   "source": [
    "$$ \\text{skojarzenie dwóch elementów: }$$\n",
    "$$ T_1 = a \\boxtimes b  $$"
   ]
  },
  {
   "cell_type": "markdown",
   "metadata": {},
   "source": [
    "$$ \\text{odzyskiwanie } b \\text{ z } T_1 \\text{ używając } a \\text{ jako \"podpowiedzi\": } $$\n",
    "$$ a \\triangleright T_1 $$\n",
    "$$ \\text{jako rezultat powinniśmy otrzymać b, albo jego zaszumioną wersję.} $$\n",
    "$$ \\text{Co więcej zamiast a możemy użyć zaszumionego a, a mimo to rezultat powinien być mniej lub bardziej podobny do b.} $$"
   ]
  },
  {
   "cell_type": "markdown",
   "metadata": {},
   "source": [
    "$$ \\text{w jednym śladzie możemy przetrzymywać kilka skojarzeń, np. } $$\n",
    "$$ T_2 = (a \\boxtimes b) \\boxplus  (c \\boxtimes d) \\boxplus  (e \\boxtimes f)  $$\n",
    "\n",
    "$$ \\text{Wynikiem operacji: } c \\triangleright T_2 \\text{ będzie zaszumione } d \\text{, ze wrostem ilości skojarzeń w śladzie coraz bardziej zaszumione} $$"
   ]
  },
  {
   "cell_type": "markdown",
   "metadata": {},
   "source": [
    "$$ \\text{ważna własność, jeśli } a \\text{ jest podobne do } a' \\text{ i } b \\text{ jest podobne do } b' $$\n",
    "$$ \\text{to } a \\boxtimes b \\text{ i } a' \\boxtimes b' \\text{ też będą podobne} $$ "
   ]
  },
  {
   "cell_type": "markdown",
   "metadata": {},
   "source": [
    "### Dlaczego to jest fajne?\n",
    "* dobrze radzą sobie z szumami\n",
    "* możliwość reprezentowania dyskretnych obiektów w ciągłej przestrzeni\n",
    "* z podobieństwa śladów wynika podobieństwo \"składowych\""
   ]
  },
  {
   "cell_type": "markdown",
   "metadata": {},
   "source": [
    "### Dlaczego nie jest fajne?"
   ]
  },
  {
   "cell_type": "markdown",
   "metadata": {},
   "source": [
    "* za pomocą par ciężko reprezentować skomplikowane struktury"
   ]
  },
  {
   "cell_type": "markdown",
   "metadata": {},
   "source": [
    "### Convolution-correlation memories"
   ]
  },
  {
   "cell_type": "markdown",
   "metadata": {},
   "source": [
    "* outer product\n",
    "![title](images/outer.jpg)"
   ]
  },
  {
   "cell_type": "markdown",
   "metadata": {},
   "source": [
    "* aperiodic convolution\n",
    "![title](images/aperiodic.jpg)"
   ]
  },
  {
   "cell_type": "markdown",
   "metadata": {},
   "source": [
    "* truncated aperiodic convolution\n",
    "![title](images/truncated.jpg)"
   ]
  },
  {
   "cell_type": "markdown",
   "metadata": {},
   "source": [
    "* circular convolution\n",
    "![title](images/circular_conv.jpg)"
   ]
  },
  {
   "cell_type": "markdown",
   "metadata": {},
   "source": [
    "* circular correlation\n",
    "![title](images/circular_cor.jpg)"
   ]
  },
  {
   "cell_type": "markdown",
   "metadata": {},
   "source": [
    "### Jeśli wektory są niezależnie wybierane z rozkładu normalnego ze średnią 0 i wariancją 1/n to można udowodnić przy pomocy CTG, że korelacja dekoduje konwolucje."
   ]
  },
  {
   "cell_type": "markdown",
   "metadata": {},
   "source": [
    "### Jak to możliwe, że przetrzymujemy kilka wektorów wymiaru n, używając jednego wektora wymiaru n?"
   ]
  },
  {
   "cell_type": "markdown",
   "metadata": {},
   "source": [
    "* jedynie możliwość odróżnienia, brak możliwości rekonstrukcji\n",
    "* potrzeba tak zwanej CleanUp Memory"
   ]
  },
  {
   "cell_type": "markdown",
   "metadata": {},
   "source": [
    "![title](images/memory.jpg)"
   ]
  },
  {
   "cell_type": "markdown",
   "metadata": {},
   "source": [
    "## Reprezentowanie bardziej złożonych struktur przy użyciu circular convolution"
   ]
  },
  {
   "cell_type": "markdown",
   "metadata": {},
   "source": [
    "### Sequences"
   ]
  },
  {
   "cell_type": "markdown",
   "metadata": {},
   "source": [
    "Problem: jak reprezentować ciąg, np a, b, c"
   ]
  },
  {
   "cell_type": "markdown",
   "metadata": {},
   "source": [
    "##### Pomysł 1"
   ]
  },
  {
   "cell_type": "markdown",
   "metadata": {},
   "source": [
    "$$ \\alpha_1 \\textbf{a} + \\beta_1 \\textbf{a} \\circledast \\textbf{b} + \\alpha_2 \\textbf{b} + \\beta_2 \\textbf{b} \\circledast \\textbf{c} + \\alpha_3 \\textbf{c} $$ \n",
    "$$ \\alpha_i > \\alpha_{i+1} $$\n",
    "$$ \\beta_i > \\beta_{i+1} $$"
   ]
  },
  {
   "cell_type": "markdown",
   "metadata": {},
   "source": [
    "Odzyskiwanie takiego ciągu:\n",
    "* pierwszym elementem jest element \"najmocniejszy\" - możemy użyć clean-up memory żeby go odzyskać - w powyższym przykładzie będzie to a\n",
    "* następnie odzyskujemy łańcuchowo, mając dany pierwszy element możemy odzyskać drugi, mając drugi odzyskać trzeci itp\n",
    "* ciąg kończy się gdy kolejny odzyskany w ten sposób element nie będzie podobny do żadnego elementu z clean-up memory"
   ]
  },
  {
   "cell_type": "markdown",
   "metadata": {},
   "source": [
    "Zalety tego podejścia:\n",
    "* reprezentacja ciągu jest podobna do każdego ze swoich elementów\n",
    "* odzyskiwanie ciągu można zacząć od dowolnego elementu, niekoniecznie pierwszego\n",
    "* podobne ciągi będą mieć podobne reprezentacje"
   ]
  },
  {
   "cell_type": "markdown",
   "metadata": {},
   "source": [
    "Wady:\n",
    "* brak możliwości poprawnego reprezentowania ciągu z powtórzonymi elementami"
   ]
  },
  {
   "cell_type": "markdown",
   "metadata": {},
   "source": [
    "##### Pomysł 2"
   ]
  },
  {
   "cell_type": "markdown",
   "metadata": {},
   "source": [
    "$$ a + a \\circledast b + a \\circledast b \\circledast c $$"
   ]
  },
  {
   "cell_type": "markdown",
   "metadata": {},
   "source": [
    "Odzyskiwanie odbywa się w podobny sposób jak w poprzednim pomyśle z tą różnicą, że do odzyskania kolejnego elementu zamiast poprzednika potrzebujemy wszystkie poprzednie i musimy zbudować wskazówkę używając konwolucji."
   ]
  },
  {
   "cell_type": "markdown",
   "metadata": {},
   "source": [
    "##### Pomysł 3"
   ]
  },
  {
   "cell_type": "markdown",
   "metadata": {},
   "source": [
    "użycie dodatkowego elementu reprezentującego pozycję w ciągu"
   ]
  },
  {
   "cell_type": "markdown",
   "metadata": {},
   "source": [
    "$$ p_1 \\circledast \\textbf{a} + p_2 \\circledast \\textbf{b} + p_3 \\circledast \\textbf{c} $$ \n",
    "\n",
    "$$ \\text{gdzie np } p_i = p^i $$"
   ]
  },
  {
   "cell_type": "markdown",
   "metadata": {},
   "source": [
    "##### Reprezentowanie stosu"
   ]
  },
  {
   "cell_type": "markdown",
   "metadata": {},
   "source": [
    "$$ s = x_1 + p_1 \\circledast x_2 + p_2 \\circledast x_3 + p_3 \\circledast x_4 $$ "
   ]
  },
  {
   "cell_type": "markdown",
   "metadata": {},
   "source": [
    "$$ push(s,x) = x + p \\circledast s $$\n",
    "$$ top(s) = clean-up(s) $$\n",
    "$$ pop(s) = (s - top(s)) \\circledast p^* $$"
   ]
  },
  {
   "cell_type": "markdown",
   "metadata": {},
   "source": [
    "### Chunking"
   ]
  },
  {
   "cell_type": "markdown",
   "metadata": {},
   "source": [
    "dla długich ciągów żeby radzić sobie z szumami"
   ]
  },
  {
   "cell_type": "markdown",
   "metadata": {},
   "source": [
    "np ciąg abcdefgh"
   ]
  },
  {
   "cell_type": "markdown",
   "metadata": {},
   "source": [
    "$$ s_{abc} = a + a \\circledast b + a \\circledast b \\circledast c $$\n",
    "$$ s_{de} = d + d \\circledast e $$\n",
    "$$ s_{fgh} = f + f \\circledast g + f \\circledast g \\circledast h $$"
   ]
  },
  {
   "cell_type": "markdown",
   "metadata": {},
   "source": [
    "\n",
    "$$ s_{abc} + s_{abc} \\circledast s_{de} + s_{abc} \\circledast s_{de} \\circledast s_{fgh} $$"
   ]
  },
  {
   "cell_type": "markdown",
   "metadata": {},
   "source": [
    "### Simple frame (slot/filler) structures"
   ]
  },
  {
   "cell_type": "markdown",
   "metadata": {},
   "source": [
    "Reprezentowanie ramek(frame), potrzebujemy:\n",
    "* etykietę(label)            - wektor\n",
    "* zbiór ról(roles/slots)     - zbiór wektorów\n",
    "* zbiór wypełniaczy(fillers) - zbiór wektorów"
   ]
  },
  {
   "cell_type": "markdown",
   "metadata": {},
   "source": [
    "$$ \\text{frame} = \\text{label} + \\text{suma konwolucji ról z odpowiądającymi im wypełniaczami} $$ \n",
    "$$ \\text{na przykładzie frame dla \"jedzenia\"} $$"
   ]
  },
  {
   "cell_type": "markdown",
   "metadata": {},
   "source": [
    "$$ \\text{label - } \\text{wektor: eat} $$\n",
    "$$ \\text{role - wektory: } agt_{eat}, obj_{eat} $$"
   ]
  },
  {
   "cell_type": "markdown",
   "metadata": {},
   "source": [
    "$$ \\text{Np żeby przedstawić zdanie \"Mark ate the fish\" konwoluujemy role agent_eat i object_eat z wypełniaczami mark i the_fish} $$\n",
    "$$ \\text{w rezultacie otrzymujemy reprezentację zdania: } $$"
   ]
  },
  {
   "cell_type": "markdown",
   "metadata": {},
   "source": [
    "$$ s_1 = \\text{eat} + agt_{eat} \\circledast \\text{mark} + obj_{eat} \\circledast \\text{the_fish} $$"
   ]
  },
  {
   "cell_type": "markdown",
   "metadata": {},
   "source": [
    "### Recursive Frame = Holographic Reduced Representations"
   ]
  },
  {
   "cell_type": "markdown",
   "metadata": {},
   "source": [
    "$$ \\text{wektory reprezentujące proste ramki mogą zostać użyte do budowy bardziej skomplikowanych jako wypełniacze} $$\n",
    "$$ \\text{Np żeby przedstawić zdanie \"Hunger caused Mark to eat the fish\" możemy użyć ramki z poprzedniego przykładu} $$"
   ]
  },
  {
   "cell_type": "markdown",
   "metadata": {},
   "source": [
    "$$ \\text{cause} + agt_{cause} \\circledast \\text{hunger} + obj_{cause} \\circledast s_1 = $$\n",
    "$$ = \\text{cause} + agt_{cause} \\circledast \\text{hunger} + obj_{cause} \\circledast (\\text{eat} + agt_{eat} \\circledast \\text{mark} + obj_{eat} \\circledast \\text{the_fish})  $$\n",
    "$$ = \\text{cause} + agt_{cause} \\circledast \\text{hunger} + obj_{cause} \\circledast \\text{eat} +  obj_{cause} \\circledast agt_{eat} \\circledast \\text{mark} + obj_{cause} \\circledast obj_{eat} \\circledast \\text{the_fish}  $$"
   ]
  },
  {
   "cell_type": "markdown",
   "metadata": {},
   "source": [
    "### Simple Machines that use HRRs"
   ]
  },
  {
   "cell_type": "markdown",
   "metadata": {},
   "source": [
    "##### Role/filler selector"
   ]
  },
  {
   "cell_type": "markdown",
   "metadata": {},
   "source": [
    "![title](images/role_selector.jpg)"
   ]
  },
  {
   "cell_type": "markdown",
   "metadata": {},
   "source": [
    "#### Chunked Sequence readout machine"
   ]
  },
  {
   "cell_type": "markdown",
   "metadata": {},
   "source": [
    "![title](images/chunked_machine.jpg)"
   ]
  },
  {
   "cell_type": "markdown",
   "metadata": {},
   "source": [
    "![title](images/chunked_1.jpg)\n",
    "![title](images/chunked_2.jpg)\n"
   ]
  },
  {
   "cell_type": "markdown",
   "metadata": {},
   "source": []
  },
  {
   "cell_type": "code",
   "execution_count": 4,
   "metadata": {
    "collapsed": false
   },
   "outputs": [],
   "source": [
    "import HRR.hrr as HRR\n",
    "hrr = HRR.HRRMachine(512)"
   ]
  },
  {
   "cell_type": "code",
   "execution_count": 5,
   "metadata": {
    "collapsed": true
   },
   "outputs": [],
   "source": [
    "ola = hrr.new_item('Ola')\n",
    "kot = hrr.new_item('Kot')\n",
    "wiktor = hrr.new_item('Wiktor')\n",
    "pies = hrr.new_item('Pies')"
   ]
  },
  {
   "cell_type": "code",
   "execution_count": 6,
   "metadata": {
    "collapsed": false
   },
   "outputs": [
    {
     "name": "stdout",
     "output_type": "stream",
     "text": [
      "((Wiktor) (*) (Pies)) (+) ((Ola) (*) (Kot))\n"
     ]
    }
   ],
   "source": [
    "simple_trace = hrr.normalized_compose([hrr.encode(ola, kot), hrr.encode(wiktor, pies)])\n",
    "print simple_trace"
   ]
  },
  {
   "cell_type": "code",
   "execution_count": 7,
   "metadata": {
    "collapsed": false
   },
   "outputs": [
    {
     "name": "stdout",
     "output_type": "stream",
     "text": [
      "Kot\n"
     ]
    }
   ],
   "source": [
    "result = hrr.decode(ola, simple_trace)\n",
    "print hrr.clean(result)"
   ]
  },
  {
   "cell_type": "code",
   "execution_count": 8,
   "metadata": {
    "collapsed": false
   },
   "outputs": [
    {
     "name": "stdout",
     "output_type": "stream",
     "text": [
      "Pies\n"
     ]
    }
   ],
   "source": [
    "result = hrr.decode(wiktor, simple_trace)\n",
    "print hrr.clean(result)"
   ]
  },
  {
   "cell_type": "code",
   "execution_count": 9,
   "metadata": {
    "collapsed": false
   },
   "outputs": [
    {
     "name": "stdout",
     "output_type": "stream",
     "text": [
      "Wiktor\n"
     ]
    }
   ],
   "source": [
    "result = hrr.decode(pies, simple_trace)\n",
    "print hrr.clean(result)"
   ]
  },
  {
   "cell_type": "code",
   "execution_count": 10,
   "metadata": {
    "collapsed": false
   },
   "outputs": [
    {
     "name": "stdout",
     "output_type": "stream",
     "text": [
      "Ola\n"
     ]
    }
   ],
   "source": [
    "result = hrr.decode(kot, simple_trace)\n",
    "print hrr.clean(result)"
   ]
  },
  {
   "cell_type": "code",
   "execution_count": 11,
   "metadata": {
    "collapsed": false
   },
   "outputs": [],
   "source": [
    "hrr.clean_memory()"
   ]
  },
  {
   "cell_type": "markdown",
   "metadata": {},
   "source": [
    "# $ s_1: \\text{Mark ate the fish.} $\n",
    "# $ s_2: \\text{Hunger caused Mark to eat the fish.} $\n",
    "# $ s_3: \\text{John ate.} $\n",
    "# $ s_4: \\text{John saw Mark.} $\n",
    "# $ s_5: \\text{John saw the fish.} $\n",
    "# $ s_6: \\text{The fish saw John.} $"
   ]
  },
  {
   "cell_type": "markdown",
   "metadata": {
    "collapsed": true
   },
   "source": [
    "Object features | Role features | Frame labels\n",
    "--- | --- | ---\n",
    "being, food, person, fish, state, bread| obj, agt | cause, eat, see\n",
    "\n",
    "##### Podstawowe wektory cech wybrane niezależnie z N(0, 1/512)"
   ]
  },
  {
   "cell_type": "code",
   "execution_count": 12,
   "metadata": {
    "collapsed": true
   },
   "outputs": [],
   "source": [
    "being    = hrr.new_item('being')\n",
    "food     = hrr.new_item('food')\n",
    "person   = hrr.new_item('person')\n",
    "fish     = hrr.new_item('fish')\n",
    "state    = hrr.new_item('state')\n",
    "bread    = hrr.new_item('bread')\n",
    "obj      = hrr.new_item('obj')\n",
    "agt      = hrr.new_item('agt')\n",
    "cause    = hrr.new_item('cause')\n",
    "eat      = hrr.new_item('eat')\n",
    "see      = hrr.new_item('see')"
   ]
  },
  {
   "cell_type": "code",
   "execution_count": 13,
   "metadata": {
    "collapsed": true
   },
   "outputs": [],
   "source": [
    "mark        = hrr.normalized_compose([being, person, hrr.new_id()], 'mark')\n",
    "john        = hrr.normalized_compose([being, person, hrr.new_id()], 'john')\n",
    "paul        = hrr.normalized_compose([being, person, hrr.new_id()], 'paul')\n",
    "luke        = hrr.normalized_compose([being, person, hrr.new_id()], 'luke')\n",
    "\n",
    "the_fish    = hrr.normalized_compose([food, fish, hrr.new_id()], 'the fish')\n",
    "the_bread   = hrr.normalized_compose([food, bread, hrr.new_id()], 'the bread')\n",
    "\n",
    "hunger      = hrr.normalized_compose([state, hrr.new_id()], 'hunger')\n",
    "thirst      = hrr.normalized_compose([state, hrr.new_id()], 'thirst')\n",
    "\n",
    "agt_eat     = hrr.normalized_compose([agt, hrr.new_id()], 'agt_eat')\n",
    "obj_eat     = hrr.normalized_compose([obj, hrr.new_id()], 'obj_eat')\n",
    "agt_see     = hrr.normalized_compose([agt, hrr.new_id()], 'agt_see')\n",
    "obj_see     = hrr.normalized_compose([obj, hrr.new_id()], 'obj_see')\n",
    "agt_cause   = hrr.normalized_compose([agt, hrr.new_id()], 'agt_cause')\n",
    "obj_cause   = hrr.normalized_compose([obj, hrr.new_id()], 'obj_cause')"
   ]
  },
  {
   "cell_type": "code",
   "execution_count": 14,
   "metadata": {
    "collapsed": false
   },
   "outputs": [
    {
     "name": "stdout",
     "output_type": "stream",
     "text": [
      "mark: 0.937262\n",
      "john: 0.601287\n",
      "paul: 0.586291\n",
      "being: 0.558242\n",
      "luke: 0.533515\n",
      "person: 0.454333\n",
      "the bread: 0.046898\n"
     ]
    }
   ],
   "source": [
    "hrr.clean_ranking(mark, limit=7)"
   ]
  },
  {
   "cell_type": "code",
   "execution_count": 15,
   "metadata": {
    "collapsed": false
   },
   "outputs": [
    {
     "name": "stdout",
     "output_type": "stream",
     "text": [
      "the fish: 0.960668\n",
      "food: 0.571616\n",
      "fish: 0.512642\n",
      "the bread: 0.298706\n",
      "state: 0.087606\n",
      "obj_see: 0.071443\n",
      "thirst: 0.059508\n"
     ]
    }
   ],
   "source": [
    "hrr.clean_ranking(the_fish, limit=7)"
   ]
  },
  {
   "cell_type": "code",
   "execution_count": 16,
   "metadata": {
    "collapsed": false
   },
   "outputs": [],
   "source": [
    "# zdania sobie zapamiętujemy w nazwie dla ułatwienia późniejszej interpretacji wyników\n",
    "s1 = hrr.normalized_compose([eat, hrr.encode(agt_eat, mark), hrr.encode(obj_eat, the_fish)], 'Mark ate the fish.')\n",
    "s2 = hrr.normalized_compose([cause, hrr.encode(agt_cause, hunger), hrr.encode(obj_cause, s1)], 'Hunger caused Mark to eat the fish.')\n",
    "s3 = hrr.normalized_compose([eat, hrr.encode(agt_eat, john)], 'John ate.')\n",
    "s4 = hrr.normalized_compose([see, hrr.encode(agt_see, john), hrr.encode(obj_see, mark)], 'John saw Mark.')\n",
    "s5 = hrr.normalized_compose([see, hrr.encode(agt_see, john), hrr.encode(obj_see, the_fish)], 'John saw the fish.')\n",
    "s6 = hrr.normalized_compose([see, hrr.encode(agt_see, the_fish), hrr.encode(obj_see, john)], 'The fish saw John.')"
   ]
  },
  {
   "cell_type": "code",
   "execution_count": 17,
   "metadata": {
    "collapsed": false
   },
   "outputs": [
    {
     "name": "stdout",
     "output_type": "stream",
     "text": [
      "Mark ate the fish.: 0.985668\n",
      "John ate.: 0.642865\n",
      "eat: 0.619934\n",
      "John saw the fish.: 0.273440\n",
      "John saw Mark.: 0.105143\n",
      "the bread: 0.062457\n",
      "agt_cause: 0.061462\n"
     ]
    }
   ],
   "source": [
    "hrr.clean_ranking(s1, limit=7)"
   ]
  },
  {
   "cell_type": "markdown",
   "metadata": {},
   "source": [
    "### Extracting agent of s1"
   ]
  },
  {
   "cell_type": "code",
   "execution_count": 18,
   "metadata": {
    "collapsed": false
   },
   "outputs": [
    {
     "data": {
      "text/plain": [
       "'Mark ate the fish.'"
      ]
     },
     "execution_count": 18,
     "metadata": {},
     "output_type": "execute_result"
    }
   ],
   "source": [
    "s1.name"
   ]
  },
  {
   "cell_type": "code",
   "execution_count": 19,
   "metadata": {
    "collapsed": false
   },
   "outputs": [
    {
     "name": "stdout",
     "output_type": "stream",
     "text": [
      "mark: 0.489999\n",
      "paul: 0.329854\n",
      "being: 0.316351\n"
     ]
    }
   ],
   "source": [
    "result = hrr.decode(agt_eat, s1) # używając agt_eat\n",
    "hrr.clean_ranking(result, limit=3)"
   ]
  },
  {
   "cell_type": "code",
   "execution_count": 20,
   "metadata": {
    "collapsed": false
   },
   "outputs": [
    {
     "name": "stdout",
     "output_type": "stream",
     "text": [
      "mark: 0.362751\n",
      "john: 0.206384\n",
      "paul: 0.201187\n"
     ]
    }
   ],
   "source": [
    "result = hrr.decode(agt, s1) # używając agt\n",
    "hrr.clean_ranking(result, limit=3)"
   ]
  },
  {
   "cell_type": "markdown",
   "metadata": {},
   "source": [
    "### Extracting object of s1"
   ]
  },
  {
   "cell_type": "code",
   "execution_count": 21,
   "metadata": {
    "collapsed": false
   },
   "outputs": [
    {
     "data": {
      "text/plain": [
       "'Mark ate the fish.'"
      ]
     },
     "execution_count": 21,
     "metadata": {},
     "output_type": "execute_result"
    }
   ],
   "source": [
    "s1.name"
   ]
  },
  {
   "cell_type": "code",
   "execution_count": 22,
   "metadata": {
    "collapsed": false
   },
   "outputs": [
    {
     "name": "stdout",
     "output_type": "stream",
     "text": [
      "the fish: 0.597295\n",
      "food: 0.401984\n",
      "fish: 0.300077\n"
     ]
    }
   ],
   "source": [
    "result = hrr.decode(obj_eat, s1)\n",
    "hrr.clean_ranking(result, limit=3)"
   ]
  },
  {
   "cell_type": "markdown",
   "metadata": {},
   "source": [
    "### Extracting agent of s2"
   ]
  },
  {
   "cell_type": "code",
   "execution_count": 23,
   "metadata": {
    "collapsed": false
   },
   "outputs": [
    {
     "data": {
      "text/plain": [
       "'Hunger caused Mark to eat the fish.'"
      ]
     },
     "execution_count": 23,
     "metadata": {},
     "output_type": "execute_result"
    }
   ],
   "source": [
    "s2.name"
   ]
  },
  {
   "cell_type": "code",
   "execution_count": 24,
   "metadata": {
    "collapsed": false
   },
   "outputs": [
    {
     "name": "stdout",
     "output_type": "stream",
     "text": [
      "hunger: 0.600476\n",
      "state: 0.413463\n",
      "thirst: 0.340106\n"
     ]
    }
   ],
   "source": [
    "result = hrr.decode(agt_cause, s2)\n",
    "hrr.clean_ranking(result, limit=3)"
   ]
  },
  {
   "cell_type": "markdown",
   "metadata": {},
   "source": [
    "### Extracting object of s2"
   ]
  },
  {
   "cell_type": "code",
   "execution_count": 25,
   "metadata": {
    "collapsed": false
   },
   "outputs": [
    {
     "data": {
      "text/plain": [
       "'Hunger caused Mark to eat the fish.'"
      ]
     },
     "execution_count": 25,
     "metadata": {},
     "output_type": "execute_result"
    }
   ],
   "source": [
    "s2.name"
   ]
  },
  {
   "cell_type": "code",
   "execution_count": 26,
   "metadata": {
    "collapsed": false
   },
   "outputs": [
    {
     "name": "stdout",
     "output_type": "stream",
     "text": [
      "Mark ate the fish.: 0.586917\n",
      "John ate.: 0.353453\n",
      "eat: 0.346111\n"
     ]
    }
   ],
   "source": [
    "result = hrr.decode(obj_cause, s2) # przykład z wydobyciem \"zagnieżonej ramki\"\n",
    "hrr.clean_ranking(result, limit=3)"
   ]
  },
  {
   "cell_type": "markdown",
   "metadata": {},
   "source": [
    "### Extracting agent of object of s2"
   ]
  },
  {
   "cell_type": "code",
   "execution_count": 27,
   "metadata": {
    "collapsed": false
   },
   "outputs": [
    {
     "data": {
      "text/plain": [
       "'Hunger caused Mark to eat the fish.'"
      ]
     },
     "execution_count": 27,
     "metadata": {},
     "output_type": "execute_result"
    }
   ],
   "source": [
    "s2.name"
   ]
  },
  {
   "cell_type": "code",
   "execution_count": 28,
   "metadata": {
    "collapsed": false
   },
   "outputs": [
    {
     "name": "stdout",
     "output_type": "stream",
     "text": [
      "mark: 0.258436\n",
      "paul: 0.178413\n",
      "being: 0.176097\n"
     ]
    }
   ],
   "source": [
    "result = hrr.decode(hrr.encode(obj_cause, agt_eat), s2) # przykład z konwolucją\n",
    "hrr.clean_ranking(result, limit=3)"
   ]
  },
  {
   "cell_type": "markdown",
   "metadata": {},
   "source": [
    "### Extracting object of object of s2"
   ]
  },
  {
   "cell_type": "code",
   "execution_count": 29,
   "metadata": {
    "collapsed": false
   },
   "outputs": [
    {
     "data": {
      "text/plain": [
       "'Hunger caused Mark to eat the fish.'"
      ]
     },
     "execution_count": 29,
     "metadata": {},
     "output_type": "execute_result"
    }
   ],
   "source": [
    "s2.name"
   ]
  },
  {
   "cell_type": "code",
   "execution_count": 30,
   "metadata": {
    "collapsed": false
   },
   "outputs": [
    {
     "name": "stdout",
     "output_type": "stream",
     "text": [
      "the fish: 0.412022\n",
      "food: 0.252516\n",
      "fish: 0.185280\n"
     ]
    }
   ],
   "source": [
    "result = hrr.decode(hrr.encode(obj_cause, obj_eat), s2) # przykład z konwolucją\n",
    "hrr.clean_ranking(result, limit=3)"
   ]
  },
  {
   "cell_type": "markdown",
   "metadata": {},
   "source": [
    "### Extracting object of s3"
   ]
  },
  {
   "cell_type": "code",
   "execution_count": 31,
   "metadata": {
    "collapsed": false
   },
   "outputs": [
    {
     "data": {
      "text/plain": [
       "'John ate.'"
      ]
     },
     "execution_count": 31,
     "metadata": {},
     "output_type": "execute_result"
    }
   ],
   "source": [
    "s3.name"
   ]
  },
  {
   "cell_type": "code",
   "execution_count": 32,
   "metadata": {
    "collapsed": false
   },
   "outputs": [
    {
     "name": "stdout",
     "output_type": "stream",
     "text": [
      "food: 0.101038\n",
      "agt_cause: 0.084258\n",
      "Mark ate the fish.: 0.061617\n"
     ]
    }
   ],
   "source": [
    "result = hrr.decode(obj_eat, s3) # przykład z próbą wyciągnięcia czegoś czego nie ma\n",
    "hrr.clean_ranking(result, limit=3)"
   ]
  },
  {
   "cell_type": "markdown",
   "metadata": {},
   "source": [
    "### Extracting role of john in s4"
   ]
  },
  {
   "cell_type": "code",
   "execution_count": 33,
   "metadata": {
    "collapsed": false
   },
   "outputs": [
    {
     "data": {
      "text/plain": [
       "'John saw Mark.'"
      ]
     },
     "execution_count": 33,
     "metadata": {},
     "output_type": "execute_result"
    }
   ],
   "source": [
    "s4.name"
   ]
  },
  {
   "cell_type": "code",
   "execution_count": 34,
   "metadata": {
    "collapsed": false
   },
   "outputs": [
    {
     "name": "stdout",
     "output_type": "stream",
     "text": [
      "agt_see: 0.460060\n",
      "obj_see: 0.352062\n",
      "agt: 0.319924\n"
     ]
    }
   ],
   "source": [
    "result = hrr.decode(john, s4)\n",
    "hrr.clean_ranking(result, limit=3)"
   ]
  },
  {
   "cell_type": "markdown",
   "metadata": {},
   "source": [
    "### Extracting role of john in s5"
   ]
  },
  {
   "cell_type": "code",
   "execution_count": 35,
   "metadata": {
    "collapsed": false
   },
   "outputs": [
    {
     "data": {
      "text/plain": [
       "'John saw the fish.'"
      ]
     },
     "execution_count": 35,
     "metadata": {},
     "output_type": "execute_result"
    }
   ],
   "source": [
    "s5.name"
   ]
  },
  {
   "cell_type": "code",
   "execution_count": 36,
   "metadata": {
    "collapsed": false
   },
   "outputs": [
    {
     "name": "stdout",
     "output_type": "stream",
     "text": [
      "agt_see: 0.423980\n",
      "agt: 0.286305\n",
      "agt_eat: 0.227243\n"
     ]
    }
   ],
   "source": [
    "result = hrr.decode(john, s5)\n",
    "hrr.clean_ranking(result, limit=3)"
   ]
  },
  {
   "cell_type": "code",
   "execution_count": null,
   "metadata": {
    "collapsed": true
   },
   "outputs": [],
   "source": []
  }
 ],
 "metadata": {
  "kernelspec": {
   "display_name": "Python 2",
   "language": "python",
   "name": "python2"
  },
  "language_info": {
   "codemirror_mode": {
    "name": "ipython",
    "version": 2
   },
   "file_extension": ".py",
   "mimetype": "text/x-python",
   "name": "python",
   "nbconvert_exporter": "python",
   "pygments_lexer": "ipython2",
   "version": "2.7.12"
  }
 },
 "nbformat": 4,
 "nbformat_minor": 0
}
